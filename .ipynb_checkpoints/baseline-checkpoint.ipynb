{
 "cells": [
  {
   "cell_type": "code",
   "execution_count": 1,
   "metadata": {},
   "outputs": [],
   "source": [
    "import pandas as pd\n",
    "import numpy as np\n",
    "import matplotlib.pyplot as plt"
   ]
  },
  {
   "cell_type": "code",
   "execution_count": 2,
   "metadata": {},
   "outputs": [],
   "source": [
    "# 為了處理方便，把 'train.csv' 和 'test.csv' 合併起來，'test.csv'的 Weather 欄位用 0 補起來。\n",
    "df = pd.read_csv('train.csv')\n",
    "df_test = pd.read_csv('test.csv')\n",
    "df_test['Weather'] = np.zeros((len(df_test),))\n",
    "\n",
    "# 以 train_end_idx 作為 'train.csv' 和 'test.csv' 分界列，\n",
    "train_end_idx = len(df)\n",
    "df = pd.concat([df, df_test], sort=False)"
   ]
  },
  {
   "cell_type": "code",
   "execution_count": 3,
   "metadata": {},
   "outputs": [],
   "source": [
    "# 將非數值欄位拿掉\n",
    "df = df.drop(columns = [col for col in df.columns if df[col].dtype == np.object])\n",
    "\n",
    "# 將 missing value 補 0\n",
    "df = df.fillna(0)"
   ]
  },
  {
   "cell_type": "markdown",
   "metadata": {},
   "source": [
    "# train"
   ]
  },
  {
   "cell_type": "code",
   "execution_count": 4,
   "metadata": {},
   "outputs": [],
   "source": [
    "from sklearn.model_selection import train_test_split\n",
    "\n",
    "X_train, X_val, y_train, y_val = train_test_split(\n",
    "    df.drop(columns = ['Weather']).values[:train_end_idx, :],\n",
    "    df['Weather'].values[:train_end_idx], test_size=0.5)\n",
    "\n",
    "X_test = df.drop(columns = ['Weather']).values[train_end_idx:, :]"
   ]
  },
  {
   "cell_type": "code",
   "execution_count": 5,
   "metadata": {},
   "outputs": [
    {
     "output_type": "stream",
     "name": "stdout",
     "text": [
      "Accuracy: 0.837695\nf1-score: 0.264122\n"
     ]
    }
   ],
   "source": [
    "from sklearn.tree import DecisionTreeClassifier\n",
    "from sklearn.metrics import accuracy_score, f1_score\n",
    "\n",
    "#train tree model\n",
    "model = DecisionTreeClassifier()\n",
    "model.fit(X_train,y_train)\n",
    "\n",
    "#predict\n",
    "y_pred_decision = model.predict(X_val)\n",
    "print('Accuracy: %f' % accuracy_score(y_val, y_pred_decision))\n",
    "print('f1-score: %f' % f1_score(y_val, y_pred_decision))"
   ]
  },
  {
   "cell_type": "code",
   "execution_count": 6,
   "metadata": {},
   "outputs": [],
   "source": [
    "ans_pred = model.predict(X_test)\n",
    "df_sap = pd.DataFrame(ans_pred.astype(int), columns = ['Weather'])\n",
    "df_sap.to_csv('myAns.csv',  index_label = 'Id')"
   ]
  },
  {
   "cell_type": "code",
   "execution_count": null,
   "metadata": {},
   "outputs": [],
   "source": []
  }
 ],
 "metadata": {
  "kernelspec": {
   "name": "python379jvsc74a57bd02bd04dc09fab68ca3ef149792dfe3505936e6301cdd003bc123cc71dc1164e1a",
   "display_name": "Python 3.7.9 64-bit"
  },
  "language_info": {
   "codemirror_mode": {
    "name": "ipython",
    "version": 3
   },
   "file_extension": ".py",
   "mimetype": "text/x-python",
   "name": "python",
   "nbconvert_exporter": "python",
   "pygments_lexer": "ipython3",
   "version": "3.7.9-final"
  }
 },
 "nbformat": 4,
 "nbformat_minor": 2
}