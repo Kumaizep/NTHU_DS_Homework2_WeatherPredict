{
 "cells": [
  {
   "cell_type": "code",
   "execution_count": 1,
   "metadata": {
    "tags": []
   },
   "outputs": [],
   "source": [
    "import pandas as pd\n",
    "import numpy as np\n",
    "import matplotlib.pyplot as plt"
   ]
  },
  {
   "cell_type": "code",
   "execution_count": 2,
   "metadata": {
    "tags": []
   },
   "outputs": [],
   "source": [
    "# 為了處理方便，把 'train.csv' 和 'test.csv' 合併起來，'test.csv'的 Weather 欄位用 0 補起來。\n",
    "df = pd.read_csv('train.csv')\n",
    "df_test = pd.read_csv('test.csv')\n",
    "df_test['Weather'] = np.zeros((len(df_test),))\n",
    "city_coor = pd.read_csv(\"aus_loc_coor.csv\", index_col = \"loc\")\n",
    "\n",
    "# 以 train_end_idx 作為 'train.csv' 和 'test.csv' 分界列，\n",
    "train_end_idx = len(df)\n",
    "df = pd.concat([df, df_test], sort=False)"
   ]
  },
  {
   "cell_type": "code",
   "execution_count": null,
   "metadata": {},
   "outputs": [],
   "source": [
    "cardinal = {\n",
    "            'E':1+0j, 'ENE':0.92388+0.38268j, 'ESE':0.92388-0.38268j,\n",
    "            'N':0+1j, 'NNE':0.38268+0.92388j, 'NNW':-0.38268+0.92388j,\n",
    "            'S':0-1j, 'SSE':0.38268-0.92388j, 'SSW':-0.38268-0.92388j,\n",
    "            'W':-1+0j, 'WNW':-0.92388+0.38268j, 'WSW':-0.92388-0.38268j,\n",
    "            'SW':-0.7071-0.7071j, 'NE':0.7071+0.7071j, 'NW':-0.7071+0.7071j, 'SE':0.7071-0.7071j\n",
    "        }"
   ]
  },
  {
   "cell_type": "code",
   "execution_count": 3,
   "metadata": {
    "tags": []
   },
   "outputs": [
    {
     "name": "stdout",
     "output_type": "stream",
     "text": [
      "nan\n",
      "nan\n",
      "3314.0\n"
     ]
    }
   ],
   "source": [
    "# Date Loc TempLow TempHigh Steaming Sun WindDir WindSpeed DayWindDir NightWindDir DayWindSpeed NightWindSpeed DayHumidity \n",
    "# NightHumidity DayPressure NightPressure DayCloud NightCloud DayTemp NightTemp Weather RISK_MM\n",
    "\n",
    "from sklearn.preprocessing import LabelEncoder\n",
    "labelencoder = LabelEncoder()\n",
    "\n",
    "# print(df.head(10))\n",
    "\n",
    "labelencoder = LabelEncoder()\n",
    "tmp = df['Loc'][df['Loc'].notnull()]\n",
    "labelencoder.fit(tmp)\n",
    "\n",
    "wind = MinMaxScaler()\n",
    "tmp = df['WindSpeed'][df['WindSpeed'].notnull()]\n",
    "wind.fit(tmp.values.reshape(-1,1))\n",
    "\n",
    "print(df['Date'].values[4])\n",
    "# df['Date'] = df['Date'].astype(str).str.split('/', n = 1).str.get(1)\n",
    "print(df['Date'].values[4])\n",
    "df['Date'] = labelencoder.fit_transform(df['Date']).astype(float)\n",
    "print(df['Date'].values[4])\n",
    "df['Loc'] = labelencoder.fit_transform(df['Loc']).astype(float)\n",
    "df['WindDir'] = labelencoder.fit_transform(df['WindDir']).astype(float)\n",
    "df['DayWindDir'] = labelencoder.fit_transform(df['DayWindDir']).astype(float)\n",
    "df['NightWindDir'] = labelencoder.fit_transform(df['NightWindDir']).astype(float)\n",
    "# df = df.drop(columns = [col for col in df.columns if df[col].dtype == np.object_])\n",
    "\n",
    "\n",
    "\n"
   ]
  },
  {
   "cell_type": "code",
   "execution_count": null,
   "metadata": {},
   "outputs": [],
   "source": [
    "# 將 missing value 補 0\n",
    "for col in df.columns:\n",
    "    if col not in ['Date', 'Loc', 'WindDir', 'DayWindDir', 'NightWindDir']:\n",
    "        df[col] = df[col].fillna(df[col].median())\n",
    "        # print(col)\n",
    "        # print(df[col].dtype)\n",
    "    else:\n",
    "        df[col] = df[col].fillna(df[col].mean())\n",
    "        # print(col)\n",
    "        # print(df[col].dtype)"
   ]
  },
  {
   "cell_type": "markdown",
   "metadata": {},
   "source": [
    "# train"
   ]
  },
  {
   "cell_type": "code",
   "execution_count": 4,
   "metadata": {},
   "outputs": [],
   "source": [
    "from sklearn.model_selection import train_test_split\n",
    "\n",
    "# X: det_lables, y: sol_lables\n",
    "X = df.drop(columns = ['Weather']).values[:train_end_idx, :]\n",
    "y = df['Weather'].values[:train_end_idx]\n",
    "X_train, X_test, y_train, y_test = train_test_split(X, y, test_size=0.2)\n",
    "\n",
    "# print(X_train[0])\n",
    "\n",
    "test = df.drop(columns = ['Weather']).values[train_end_idx:, :]\n",
    "\n",
    "from imblearn.over_sampling import SMOTE\n",
    "sm = SMOTE(random_state = 42)\n",
    "X_train, y_train = sm.fit_resample(X_train, y_train)"
   ]
  },
  {
   "cell_type": "code",
   "execution_count": 6,
   "metadata": {},
   "outputs": [
    {
     "name": "stdout",
     "output_type": "stream",
     "text": [
      "Accuracy: 0.897753\n",
      "f1-score: 0.349321\n"
     ]
    }
   ],
   "source": [
    "from sklearn.tree import DecisionTreeClassifier\n",
    "from sklearn.neighbors import KNeighborsClassifier\n",
    "from sklearn.svm import SVC\n",
    "from sklearn.linear_model import LogisticRegression\n",
    "from sklearn.ensemble import RandomForestClassifier\n",
    "from sklearn.ensemble import GradientBoostingClassifier\n",
    "from sklearn.naive_bayes import GaussianNB\n",
    "from sklearn.metrics import accuracy_score, f1_score, roc_curve, auc\n",
    "from xgboost import XGBClassifier\n",
    "from lightgbm import LGBMClassifier\n",
    "\n",
    "from sklearn.preprocessing import normalize, StandardScaler\n",
    "\n",
    "# X_train = normalize(X_train)\n",
    "sc = StandardScaler()\n",
    "sc.fit(X_train)\n",
    "X_train = sc.transform(X_train)\n",
    "X_test = sc.transform(X_test)\n",
    "test = sc.transform(test)\n",
    "\n",
    "# train tree model\n",
    "# model = GradientBoostingClassifier(max_depth=3, random_state=120)\n",
    "# model = LogisticRegression(solver='newton-cholesky', max_iter=1000000, random_state=120)\n",
    "# model = SVC(kernel='rbf', C=2, random_state=0, probability=True)\n",
    "# model = XGBClassifier()\n",
    "# model = LGBMClassifier()\n",
    "model.fit(X_train, y_train)\n",
    "\n",
    "\n",
    "# predict\n",
    "y_pred_decision = model.predict(X_test)\n",
    "print('Accuracy: %f' % accuracy_score(y_test, y_pred_decision))\n",
    "print('f1-score: %f' % f1_score(y_test, y_pred_decision))\n"
   ]
  },
  {
   "cell_type": "code",
   "execution_count": 7,
   "metadata": {},
   "outputs": [],
   "source": [
    "ans_pred = model.predict(test)\n",
    "df_sap = pd.DataFrame(ans_pred.astype(int), columns = ['Weather'])\n",
    "df_sap.to_csv('myAns2.csv',  index_label = 'Id')"
   ]
  }
 ],
 "metadata": {
  "kernelspec": {
   "display_name": "Python 3 (ipykernel)",
   "language": "python",
   "name": "python3"
  },
  "language_info": {
   "codemirror_mode": {
    "name": "ipython",
    "version": 3
   },
   "file_extension": ".py",
   "mimetype": "text/x-python",
   "name": "python",
   "nbconvert_exporter": "python",
   "pygments_lexer": "ipython3",
   "version": "3.10.9"
  }
 },
 "nbformat": 4,
 "nbformat_minor": 4
}
